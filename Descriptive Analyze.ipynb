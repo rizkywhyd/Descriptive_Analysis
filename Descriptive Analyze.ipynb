{
  "nbformat": 4,
  "nbformat_minor": 0,
  "metadata": {
    "colab": {
      "name": "Tugas Hology_Rizky Wahyudi",
      "provenance": [],
      "collapsed_sections": []
    },
    "kernelspec": {
      "name": "python3",
      "display_name": "Python 3"
    },
    "language_info": {
      "name": "python"
    }
  },
  "cells": [
    {
      "cell_type": "markdown",
      "metadata": {
        "id": "JFgJsqKJgq4X"
      },
      "source": [
        "<p><img alt=\"Colaboratory logo\" height=\"60px\" src=\"https://drive.google.com/uc?export=view&id=1kQ-l200JEQvIRcIBIssTAZaWX7KnUP2K\" align=\"left\" hspace=\"10px\" vspace=\"0px\"></p>\n",
        "\n",
        "**<h1>Lembar Kerja Peserta Workshop Data HOLOGY 4.0</h1>**\n",
        "\n",
        "**************************************\n",
        "Kelompok: 1\n",
        "\n",
        "Anggota: Rizky Wahyudi\n",
        "\n",
        "**************************************\n",
        "\n",
        "*Dataset dan penjelasannya dapat diakses di link berikut :https://bit.ly/DatasetHOLOGY*\n"
      ]
    },
    {
      "cell_type": "markdown",
      "metadata": {
        "id": "hxqRpeTKhSIj"
      },
      "source": [
        "**Memanggil import yang dibutuhkan**"
      ]
    },
    {
      "cell_type": "code",
      "metadata": {
        "id": "eKEGGPfLhHr5"
      },
      "source": [
        "import pandas as pd\n",
        "import numpy as np\n",
        "from matplotlib import pyplot as plt\n",
        "import seaborn as sns\n",
        "from scipy import stats"
      ],
      "execution_count": 1,
      "outputs": []
    },
    {
      "cell_type": "markdown",
      "metadata": {
        "id": "b5miy6jXhdHH"
      },
      "source": [
        "**Memanggil data dan menampilkan 5 data teratas**"
      ]
    },
    {
      "cell_type": "code",
      "metadata": {
        "colab": {
          "base_uri": "https://localhost:8080/",
          "height": 395
        },
        "id": "uFcLEXv1g8tW",
        "outputId": "670f0254-c76b-4860-c17c-b8315c844cd7"
      },
      "source": [
        "df = pd.read_csv('/content/country_vaccinations.csv')\n",
        "\n",
        "df.head(5)"
      ],
      "execution_count": 2,
      "outputs": [
        {
          "output_type": "execute_result",
          "data": {
            "text/html": [
              "<div>\n",
              "<style scoped>\n",
              "    .dataframe tbody tr th:only-of-type {\n",
              "        vertical-align: middle;\n",
              "    }\n",
              "\n",
              "    .dataframe tbody tr th {\n",
              "        vertical-align: top;\n",
              "    }\n",
              "\n",
              "    .dataframe thead th {\n",
              "        text-align: right;\n",
              "    }\n",
              "</style>\n",
              "<table border=\"1\" class=\"dataframe\">\n",
              "  <thead>\n",
              "    <tr style=\"text-align: right;\">\n",
              "      <th></th>\n",
              "      <th>country</th>\n",
              "      <th>iso_code</th>\n",
              "      <th>date</th>\n",
              "      <th>total_vaccinations</th>\n",
              "      <th>people_vaccinated</th>\n",
              "      <th>people_fully_vaccinated</th>\n",
              "      <th>daily_vaccinations_raw</th>\n",
              "      <th>daily_vaccinations</th>\n",
              "      <th>total_vaccinations_per_hundred</th>\n",
              "      <th>people_vaccinated_per_hundred</th>\n",
              "      <th>people_fully_vaccinated_per_hundred</th>\n",
              "      <th>daily_vaccinations_per_million</th>\n",
              "      <th>vaccines</th>\n",
              "      <th>source_name</th>\n",
              "      <th>source_website</th>\n",
              "    </tr>\n",
              "  </thead>\n",
              "  <tbody>\n",
              "    <tr>\n",
              "      <th>0</th>\n",
              "      <td>Afghanistan</td>\n",
              "      <td>AFG</td>\n",
              "      <td>2021-02-22</td>\n",
              "      <td>0.0</td>\n",
              "      <td>0.0</td>\n",
              "      <td>NaN</td>\n",
              "      <td>NaN</td>\n",
              "      <td>NaN</td>\n",
              "      <td>0.0</td>\n",
              "      <td>0.0</td>\n",
              "      <td>NaN</td>\n",
              "      <td>NaN</td>\n",
              "      <td>Johnson&amp;Johnson, Oxford/AstraZeneca, Pfizer/Bi...</td>\n",
              "      <td>World Health Organization</td>\n",
              "      <td>https://app.powerbi.com/view?r=eyJrIjoiYTkyM2V...</td>\n",
              "    </tr>\n",
              "    <tr>\n",
              "      <th>1</th>\n",
              "      <td>Afghanistan</td>\n",
              "      <td>AFG</td>\n",
              "      <td>2021-02-23</td>\n",
              "      <td>NaN</td>\n",
              "      <td>NaN</td>\n",
              "      <td>NaN</td>\n",
              "      <td>NaN</td>\n",
              "      <td>1367.0</td>\n",
              "      <td>NaN</td>\n",
              "      <td>NaN</td>\n",
              "      <td>NaN</td>\n",
              "      <td>34.0</td>\n",
              "      <td>Johnson&amp;Johnson, Oxford/AstraZeneca, Pfizer/Bi...</td>\n",
              "      <td>World Health Organization</td>\n",
              "      <td>https://app.powerbi.com/view?r=eyJrIjoiYTkyM2V...</td>\n",
              "    </tr>\n",
              "    <tr>\n",
              "      <th>2</th>\n",
              "      <td>Afghanistan</td>\n",
              "      <td>AFG</td>\n",
              "      <td>2021-02-24</td>\n",
              "      <td>NaN</td>\n",
              "      <td>NaN</td>\n",
              "      <td>NaN</td>\n",
              "      <td>NaN</td>\n",
              "      <td>1367.0</td>\n",
              "      <td>NaN</td>\n",
              "      <td>NaN</td>\n",
              "      <td>NaN</td>\n",
              "      <td>34.0</td>\n",
              "      <td>Johnson&amp;Johnson, Oxford/AstraZeneca, Pfizer/Bi...</td>\n",
              "      <td>World Health Organization</td>\n",
              "      <td>https://app.powerbi.com/view?r=eyJrIjoiYTkyM2V...</td>\n",
              "    </tr>\n",
              "    <tr>\n",
              "      <th>3</th>\n",
              "      <td>Afghanistan</td>\n",
              "      <td>AFG</td>\n",
              "      <td>2021-02-25</td>\n",
              "      <td>NaN</td>\n",
              "      <td>NaN</td>\n",
              "      <td>NaN</td>\n",
              "      <td>NaN</td>\n",
              "      <td>1367.0</td>\n",
              "      <td>NaN</td>\n",
              "      <td>NaN</td>\n",
              "      <td>NaN</td>\n",
              "      <td>34.0</td>\n",
              "      <td>Johnson&amp;Johnson, Oxford/AstraZeneca, Pfizer/Bi...</td>\n",
              "      <td>World Health Organization</td>\n",
              "      <td>https://app.powerbi.com/view?r=eyJrIjoiYTkyM2V...</td>\n",
              "    </tr>\n",
              "    <tr>\n",
              "      <th>4</th>\n",
              "      <td>Afghanistan</td>\n",
              "      <td>AFG</td>\n",
              "      <td>2021-02-26</td>\n",
              "      <td>NaN</td>\n",
              "      <td>NaN</td>\n",
              "      <td>NaN</td>\n",
              "      <td>NaN</td>\n",
              "      <td>1367.0</td>\n",
              "      <td>NaN</td>\n",
              "      <td>NaN</td>\n",
              "      <td>NaN</td>\n",
              "      <td>34.0</td>\n",
              "      <td>Johnson&amp;Johnson, Oxford/AstraZeneca, Pfizer/Bi...</td>\n",
              "      <td>World Health Organization</td>\n",
              "      <td>https://app.powerbi.com/view?r=eyJrIjoiYTkyM2V...</td>\n",
              "    </tr>\n",
              "  </tbody>\n",
              "</table>\n",
              "</div>"
            ],
            "text/plain": [
              "       country  ...                                     source_website\n",
              "0  Afghanistan  ...  https://app.powerbi.com/view?r=eyJrIjoiYTkyM2V...\n",
              "1  Afghanistan  ...  https://app.powerbi.com/view?r=eyJrIjoiYTkyM2V...\n",
              "2  Afghanistan  ...  https://app.powerbi.com/view?r=eyJrIjoiYTkyM2V...\n",
              "3  Afghanistan  ...  https://app.powerbi.com/view?r=eyJrIjoiYTkyM2V...\n",
              "4  Afghanistan  ...  https://app.powerbi.com/view?r=eyJrIjoiYTkyM2V...\n",
              "\n",
              "[5 rows x 15 columns]"
            ]
          },
          "metadata": {},
          "execution_count": 2
        }
      ]
    },
    {
      "cell_type": "markdown",
      "metadata": {
        "id": "LoLH7Z39hvjw"
      },
      "source": [
        "**Menampilkan informasi data (nama kolom, nilai yang hilang, dan tipe data**"
      ]
    },
    {
      "cell_type": "code",
      "metadata": {
        "colab": {
          "base_uri": "https://localhost:8080/"
        },
        "id": "HknmX11QhvzD",
        "outputId": "43ad7ef0-a8e6-42ed-ed1c-7f6ab8d70195"
      },
      "source": [
        "df.info()"
      ],
      "execution_count": 4,
      "outputs": [
        {
          "output_type": "stream",
          "name": "stdout",
          "text": [
            "<class 'pandas.core.frame.DataFrame'>\n",
            "RangeIndex: 43890 entries, 0 to 43889\n",
            "Data columns (total 15 columns):\n",
            " #   Column                               Non-Null Count  Dtype  \n",
            "---  ------                               --------------  -----  \n",
            " 0   country                              43890 non-null  object \n",
            " 1   iso_code                             43890 non-null  object \n",
            " 2   date                                 43890 non-null  object \n",
            " 3   total_vaccinations                   23954 non-null  float64\n",
            " 4   people_vaccinated                    22912 non-null  float64\n",
            " 5   people_fully_vaccinated              20069 non-null  float64\n",
            " 6   daily_vaccinations_raw               19646 non-null  float64\n",
            " 7   daily_vaccinations                   43590 non-null  float64\n",
            " 8   total_vaccinations_per_hundred       23954 non-null  float64\n",
            " 9   people_vaccinated_per_hundred        22912 non-null  float64\n",
            " 10  people_fully_vaccinated_per_hundred  20069 non-null  float64\n",
            " 11  daily_vaccinations_per_million       43590 non-null  float64\n",
            " 12  vaccines                             43890 non-null  object \n",
            " 13  source_name                          43890 non-null  object \n",
            " 14  source_website                       43890 non-null  object \n",
            "dtypes: float64(9), object(6)\n",
            "memory usage: 5.0+ MB\n"
          ]
        }
      ]
    },
    {
      "cell_type": "markdown",
      "metadata": {
        "id": "ZMUeXvM-jHa0"
      },
      "source": [
        "**Melihat deskripsi data (jumlah data, mean, standar deviasi, median, nilai minimum, maksimum, dll)**"
      ]
    },
    {
      "cell_type": "code",
      "metadata": {
        "colab": {
          "base_uri": "https://localhost:8080/",
          "height": 317
        },
        "id": "5XOW7gLqjiwb",
        "outputId": "dc243a62-14f9-4ae6-b0cc-668cfdefdae1"
      },
      "source": [
        "df.describe()"
      ],
      "execution_count": 5,
      "outputs": [
        {
          "output_type": "execute_result",
          "data": {
            "text/html": [
              "<div>\n",
              "<style scoped>\n",
              "    .dataframe tbody tr th:only-of-type {\n",
              "        vertical-align: middle;\n",
              "    }\n",
              "\n",
              "    .dataframe tbody tr th {\n",
              "        vertical-align: top;\n",
              "    }\n",
              "\n",
              "    .dataframe thead th {\n",
              "        text-align: right;\n",
              "    }\n",
              "</style>\n",
              "<table border=\"1\" class=\"dataframe\">\n",
              "  <thead>\n",
              "    <tr style=\"text-align: right;\">\n",
              "      <th></th>\n",
              "      <th>total_vaccinations</th>\n",
              "      <th>people_vaccinated</th>\n",
              "      <th>people_fully_vaccinated</th>\n",
              "      <th>daily_vaccinations_raw</th>\n",
              "      <th>daily_vaccinations</th>\n",
              "      <th>total_vaccinations_per_hundred</th>\n",
              "      <th>people_vaccinated_per_hundred</th>\n",
              "      <th>people_fully_vaccinated_per_hundred</th>\n",
              "      <th>daily_vaccinations_per_million</th>\n",
              "    </tr>\n",
              "  </thead>\n",
              "  <tbody>\n",
              "    <tr>\n",
              "      <th>count</th>\n",
              "      <td>2.395400e+04</td>\n",
              "      <td>2.291200e+04</td>\n",
              "      <td>2.006900e+04</td>\n",
              "      <td>1.964600e+04</td>\n",
              "      <td>4.359000e+04</td>\n",
              "      <td>23954.000000</td>\n",
              "      <td>22912.000000</td>\n",
              "      <td>20069.000000</td>\n",
              "      <td>43590.000000</td>\n",
              "    </tr>\n",
              "    <tr>\n",
              "      <th>mean</th>\n",
              "      <td>1.939722e+07</td>\n",
              "      <td>8.314011e+06</td>\n",
              "      <td>5.179976e+06</td>\n",
              "      <td>2.608236e+05</td>\n",
              "      <td>1.303081e+05</td>\n",
              "      <td>41.891070</td>\n",
              "      <td>25.618281</td>\n",
              "      <td>18.866719</td>\n",
              "      <td>3572.434457</td>\n",
              "    </tr>\n",
              "    <tr>\n",
              "      <th>std</th>\n",
              "      <td>1.112796e+08</td>\n",
              "      <td>3.184113e+07</td>\n",
              "      <td>1.928807e+07</td>\n",
              "      <td>1.329277e+06</td>\n",
              "      <td>8.848659e+05</td>\n",
              "      <td>43.820258</td>\n",
              "      <td>24.023195</td>\n",
              "      <td>20.873270</td>\n",
              "      <td>4482.285466</td>\n",
              "    </tr>\n",
              "    <tr>\n",
              "      <th>min</th>\n",
              "      <td>0.000000e+00</td>\n",
              "      <td>0.000000e+00</td>\n",
              "      <td>1.000000e+00</td>\n",
              "      <td>0.000000e+00</td>\n",
              "      <td>0.000000e+00</td>\n",
              "      <td>0.000000</td>\n",
              "      <td>0.000000</td>\n",
              "      <td>0.000000</td>\n",
              "      <td>0.000000</td>\n",
              "    </tr>\n",
              "    <tr>\n",
              "      <th>25%</th>\n",
              "      <td>1.962040e+05</td>\n",
              "      <td>1.601840e+05</td>\n",
              "      <td>7.646000e+04</td>\n",
              "      <td>5.017500e+03</td>\n",
              "      <td>8.500000e+02</td>\n",
              "      <td>4.970000</td>\n",
              "      <td>3.860000</td>\n",
              "      <td>2.220000</td>\n",
              "      <td>501.000000</td>\n",
              "    </tr>\n",
              "    <tr>\n",
              "      <th>50%</th>\n",
              "      <td>1.384025e+06</td>\n",
              "      <td>9.693695e+05</td>\n",
              "      <td>5.895910e+05</td>\n",
              "      <td>2.447250e+04</td>\n",
              "      <td>6.766000e+03</td>\n",
              "      <td>24.740000</td>\n",
              "      <td>17.360000</td>\n",
              "      <td>9.930000</td>\n",
              "      <td>2191.000000</td>\n",
              "    </tr>\n",
              "    <tr>\n",
              "      <th>75%</th>\n",
              "      <td>7.323569e+06</td>\n",
              "      <td>4.484088e+06</td>\n",
              "      <td>3.008567e+06</td>\n",
              "      <td>1.118322e+05</td>\n",
              "      <td>4.115100e+04</td>\n",
              "      <td>69.647500</td>\n",
              "      <td>44.372500</td>\n",
              "      <td>30.320000</td>\n",
              "      <td>5363.750000</td>\n",
              "    </tr>\n",
              "    <tr>\n",
              "      <th>max</th>\n",
              "      <td>2.142580e+09</td>\n",
              "      <td>1.095000e+09</td>\n",
              "      <td>9.697200e+08</td>\n",
              "      <td>2.474100e+07</td>\n",
              "      <td>2.242429e+07</td>\n",
              "      <td>234.830000</td>\n",
              "      <td>118.090000</td>\n",
              "      <td>116.740000</td>\n",
              "      <td>117497.000000</td>\n",
              "    </tr>\n",
              "  </tbody>\n",
              "</table>\n",
              "</div>"
            ],
            "text/plain": [
              "       total_vaccinations  ...  daily_vaccinations_per_million\n",
              "count        2.395400e+04  ...                    43590.000000\n",
              "mean         1.939722e+07  ...                     3572.434457\n",
              "std          1.112796e+08  ...                     4482.285466\n",
              "min          0.000000e+00  ...                        0.000000\n",
              "25%          1.962040e+05  ...                      501.000000\n",
              "50%          1.384025e+06  ...                     2191.000000\n",
              "75%          7.323569e+06  ...                     5363.750000\n",
              "max          2.142580e+09  ...                   117497.000000\n",
              "\n",
              "[8 rows x 9 columns]"
            ]
          },
          "metadata": {},
          "execution_count": 5
        }
      ]
    },
    {
      "cell_type": "markdown",
      "metadata": {
        "id": "B_55L45xjsRY"
      },
      "source": [
        "**Melihat jumlah nilai yang hilang untuk seluruh data**"
      ]
    },
    {
      "cell_type": "code",
      "metadata": {
        "colab": {
          "base_uri": "https://localhost:8080/"
        },
        "id": "E0TK-JSGjyum",
        "outputId": "6668bd24-05a5-4cb2-fc17-e89268b65b13"
      },
      "source": [
        "df.isnull().sum()"
      ],
      "execution_count": 7,
      "outputs": [
        {
          "output_type": "execute_result",
          "data": {
            "text/plain": [
              "country                                    0\n",
              "iso_code                                   0\n",
              "date                                       0\n",
              "total_vaccinations                     19936\n",
              "people_vaccinated                      20978\n",
              "people_fully_vaccinated                23821\n",
              "daily_vaccinations_raw                 24244\n",
              "daily_vaccinations                       300\n",
              "total_vaccinations_per_hundred         19936\n",
              "people_vaccinated_per_hundred          20978\n",
              "people_fully_vaccinated_per_hundred    23821\n",
              "daily_vaccinations_per_million           300\n",
              "vaccines                                   0\n",
              "source_name                                0\n",
              "source_website                             0\n",
              "dtype: int64"
            ]
          },
          "metadata": {},
          "execution_count": 7
        }
      ]
    },
    {
      "cell_type": "markdown",
      "metadata": {
        "id": "yXqLNEBalBLu"
      },
      "source": [
        "**Melihat korelasi, terutama untuk orang yang divaksin dengan total vaksin dengan hasil 0,98 (korelasi tinggi)**"
      ]
    },
    {
      "cell_type": "code",
      "metadata": {
        "colab": {
          "base_uri": "https://localhost:8080/",
          "height": 661
        },
        "id": "qt_C2u9xlEhi",
        "outputId": "5aedfc04-10b1-4a3b-8952-49437bd73ba6"
      },
      "source": [
        "plt.figure(figsize=(13,8))\n",
        "\n",
        "correlation_matrix = df.corr().round(2)\n",
        "mask = np.triu(np.ones_like(correlation_matrix, dtype=bool))\n",
        "sns.heatmap(data = correlation_matrix, mask=mask, annot = True)\n",
        "\n",
        "plt.show()"
      ],
      "execution_count": 9,
      "outputs": [
        {
          "output_type": "display_data",
          "data": {
            "image/png": "[encoded data removed]",
            "text/plain": [
              "<Figure size 936x576 with 2 Axes>"
            ]
          },
          "metadata": {
            "needs_background": "light"
          }
        }
      ]
    },
    {
      "cell_type": "markdown",
      "metadata": {
        "id": "-NfuBA8IlW_j"
      },
      "source": [
        "**Karena cukup banyak data yang hilang, akan diambil data dari satu negara saja yaitu Indonesia**"
      ]
    },
    {
      "cell_type": "code",
      "metadata": {
        "id": "kiFsymZ4l3Ef"
      },
      "source": [
        "df_indo = df[df[\"country\"]==\"Indonesia\"]"
      ],
      "execution_count": 10,
      "outputs": []
    },
    {
      "cell_type": "markdown",
      "metadata": {
        "id": "7fFeuTxymD3l"
      },
      "source": [
        "**Mereset indek data negara Indonesia dari 0  (nol)**"
      ]
    },
    {
      "cell_type": "code",
      "metadata": {
        "colab": {
          "base_uri": "https://localhost:8080/",
          "height": 395
        },
        "id": "RcQf460UmAk4",
        "outputId": "d1b81a11-0c1f-443f-fd0b-4ea1528c6db5"
      },
      "source": [
        "df_indo=df_indo.reset_index(drop=True)\n",
        "df_indo.head() "
      ],
      "execution_count": 12,
      "outputs": [
        {
          "output_type": "execute_result",
          "data": {
            "text/html": [
              "<div>\n",
              "<style scoped>\n",
              "    .dataframe tbody tr th:only-of-type {\n",
              "        vertical-align: middle;\n",
              "    }\n",
              "\n",
              "    .dataframe tbody tr th {\n",
              "        vertical-align: top;\n",
              "    }\n",
              "\n",
              "    .dataframe thead th {\n",
              "        text-align: right;\n",
              "    }\n",
              "</style>\n",
              "<table border=\"1\" class=\"dataframe\">\n",
              "  <thead>\n",
              "    <tr style=\"text-align: right;\">\n",
              "      <th></th>\n",
              "      <th>country</th>\n",
              "      <th>iso_code</th>\n",
              "      <th>date</th>\n",
              "      <th>total_vaccinations</th>\n",
              "      <th>people_vaccinated</th>\n",
              "      <th>people_fully_vaccinated</th>\n",
              "      <th>daily_vaccinations_raw</th>\n",
              "      <th>daily_vaccinations</th>\n",
              "      <th>total_vaccinations_per_hundred</th>\n",
              "      <th>people_vaccinated_per_hundred</th>\n",
              "      <th>people_fully_vaccinated_per_hundred</th>\n",
              "      <th>daily_vaccinations_per_million</th>\n",
              "      <th>vaccines</th>\n",
              "      <th>source_name</th>\n",
              "      <th>source_website</th>\n",
              "    </tr>\n",
              "  </thead>\n",
              "  <tbody>\n",
              "    <tr>\n",
              "      <th>0</th>\n",
              "      <td>Indonesia</td>\n",
              "      <td>IDN</td>\n",
              "      <td>2021-01-12</td>\n",
              "      <td>0.0</td>\n",
              "      <td>0.0</td>\n",
              "      <td>NaN</td>\n",
              "      <td>NaN</td>\n",
              "      <td>NaN</td>\n",
              "      <td>0.0</td>\n",
              "      <td>0.0</td>\n",
              "      <td>NaN</td>\n",
              "      <td>NaN</td>\n",
              "      <td>Moderna, Oxford/AstraZeneca, Pfizer/BioNTech, ...</td>\n",
              "      <td>Ministry of Health</td>\n",
              "      <td>https://vaksin.kemkes.go.id/#/vaccines</td>\n",
              "    </tr>\n",
              "    <tr>\n",
              "      <th>1</th>\n",
              "      <td>Indonesia</td>\n",
              "      <td>IDN</td>\n",
              "      <td>2021-01-13</td>\n",
              "      <td>NaN</td>\n",
              "      <td>NaN</td>\n",
              "      <td>NaN</td>\n",
              "      <td>NaN</td>\n",
              "      <td>13200.0</td>\n",
              "      <td>NaN</td>\n",
              "      <td>NaN</td>\n",
              "      <td>NaN</td>\n",
              "      <td>48.0</td>\n",
              "      <td>Moderna, Oxford/AstraZeneca, Pfizer/BioNTech, ...</td>\n",
              "      <td>Ministry of Health</td>\n",
              "      <td>https://vaksin.kemkes.go.id/#/vaccines</td>\n",
              "    </tr>\n",
              "    <tr>\n",
              "      <th>2</th>\n",
              "      <td>Indonesia</td>\n",
              "      <td>IDN</td>\n",
              "      <td>2021-01-14</td>\n",
              "      <td>NaN</td>\n",
              "      <td>NaN</td>\n",
              "      <td>NaN</td>\n",
              "      <td>NaN</td>\n",
              "      <td>13200.0</td>\n",
              "      <td>NaN</td>\n",
              "      <td>NaN</td>\n",
              "      <td>NaN</td>\n",
              "      <td>48.0</td>\n",
              "      <td>Moderna, Oxford/AstraZeneca, Pfizer/BioNTech, ...</td>\n",
              "      <td>Ministry of Health</td>\n",
              "      <td>https://vaksin.kemkes.go.id/#/vaccines</td>\n",
              "    </tr>\n",
              "    <tr>\n",
              "      <th>3</th>\n",
              "      <td>Indonesia</td>\n",
              "      <td>IDN</td>\n",
              "      <td>2021-01-15</td>\n",
              "      <td>NaN</td>\n",
              "      <td>NaN</td>\n",
              "      <td>NaN</td>\n",
              "      <td>NaN</td>\n",
              "      <td>13200.0</td>\n",
              "      <td>NaN</td>\n",
              "      <td>NaN</td>\n",
              "      <td>NaN</td>\n",
              "      <td>48.0</td>\n",
              "      <td>Moderna, Oxford/AstraZeneca, Pfizer/BioNTech, ...</td>\n",
              "      <td>Ministry of Health</td>\n",
              "      <td>https://vaksin.kemkes.go.id/#/vaccines</td>\n",
              "    </tr>\n",
              "    <tr>\n",
              "      <th>4</th>\n",
              "      <td>Indonesia</td>\n",
              "      <td>IDN</td>\n",
              "      <td>2021-01-16</td>\n",
              "      <td>NaN</td>\n",
              "      <td>NaN</td>\n",
              "      <td>NaN</td>\n",
              "      <td>NaN</td>\n",
              "      <td>13200.0</td>\n",
              "      <td>NaN</td>\n",
              "      <td>NaN</td>\n",
              "      <td>NaN</td>\n",
              "      <td>48.0</td>\n",
              "      <td>Moderna, Oxford/AstraZeneca, Pfizer/BioNTech, ...</td>\n",
              "      <td>Ministry of Health</td>\n",
              "      <td>https://vaksin.kemkes.go.id/#/vaccines</td>\n",
              "    </tr>\n",
              "  </tbody>\n",
              "</table>\n",
              "</div>"
            ],
            "text/plain": [
              "     country  ...                          source_website\n",
              "0  Indonesia  ...  https://vaksin.kemkes.go.id/#/vaccines\n",
              "1  Indonesia  ...  https://vaksin.kemkes.go.id/#/vaccines\n",
              "2  Indonesia  ...  https://vaksin.kemkes.go.id/#/vaccines\n",
              "3  Indonesia  ...  https://vaksin.kemkes.go.id/#/vaccines\n",
              "4  Indonesia  ...  https://vaksin.kemkes.go.id/#/vaccines\n",
              "\n",
              "[5 rows x 15 columns]"
            ]
          },
          "metadata": {},
          "execution_count": 12
        }
      ]
    },
    {
      "cell_type": "markdown",
      "metadata": {
        "id": "OY64npiTmhnl"
      },
      "source": [
        "**Melihat informasi data vaksin di Indonesia**"
      ]
    },
    {
      "cell_type": "code",
      "metadata": {
        "colab": {
          "base_uri": "https://localhost:8080/"
        },
        "id": "rynJnSKJmkhK",
        "outputId": "77066b5d-61c3-4c82-aea3-96e439b560d1"
      },
      "source": [
        "df_indo.info() #informasi dari dataset vaksin untuk negara Indonesia"
      ],
      "execution_count": 13,
      "outputs": [
        {
          "output_type": "stream",
          "name": "stdout",
          "text": [
            "<class 'pandas.core.frame.DataFrame'>\n",
            "RangeIndex: 243 entries, 0 to 242\n",
            "Data columns (total 15 columns):\n",
            " #   Column                               Non-Null Count  Dtype  \n",
            "---  ------                               --------------  -----  \n",
            " 0   country                              243 non-null    object \n",
            " 1   iso_code                             243 non-null    object \n",
            " 2   date                                 243 non-null    object \n",
            " 3   total_vaccinations                   198 non-null    float64\n",
            " 4   people_vaccinated                    198 non-null    float64\n",
            " 5   people_fully_vaccinated              192 non-null    float64\n",
            " 6   daily_vaccinations_raw               167 non-null    float64\n",
            " 7   daily_vaccinations                   242 non-null    float64\n",
            " 8   total_vaccinations_per_hundred       198 non-null    float64\n",
            " 9   people_vaccinated_per_hundred        198 non-null    float64\n",
            " 10  people_fully_vaccinated_per_hundred  192 non-null    float64\n",
            " 11  daily_vaccinations_per_million       242 non-null    float64\n",
            " 12  vaccines                             243 non-null    object \n",
            " 13  source_name                          243 non-null    object \n",
            " 14  source_website                       243 non-null    object \n",
            "dtypes: float64(9), object(6)\n",
            "memory usage: 28.6+ KB\n"
          ]
        }
      ]
    },
    {
      "cell_type": "markdown",
      "metadata": {
        "id": "whw9ECffm5D3"
      },
      "source": [
        "**Melihat berapa presentase data yang hilang pada vaksin negara Indonesia**"
      ]
    },
    {
      "cell_type": "code",
      "metadata": {
        "colab": {
          "base_uri": "https://localhost:8080/"
        },
        "id": "6lZYXhrfmu0T",
        "outputId": "9e2d3636-2efd-4889-be37-2fa07aae59d6"
      },
      "source": [
        "nulls = df_indo.isnull().sum()\n",
        "nulls_percentage = nulls[nulls!=0]/df_indo.shape[0]*100\n",
        "print('Persentase missing value setiap variabel untuk negara Indonesia:\\n')\n",
        "print(round(nulls_percentage,2))"
      ],
      "execution_count": 14,
      "outputs": [
        {
          "output_type": "stream",
          "name": "stdout",
          "text": [
            "Persentase missing value setiap variabel untuk negara Indonesia:\n",
            "\n",
            "total_vaccinations                     18.52\n",
            "people_vaccinated                      18.52\n",
            "people_fully_vaccinated                20.99\n",
            "daily_vaccinations_raw                 31.28\n",
            "daily_vaccinations                      0.41\n",
            "total_vaccinations_per_hundred         18.52\n",
            "people_vaccinated_per_hundred          18.52\n",
            "people_fully_vaccinated_per_hundred    20.99\n",
            "daily_vaccinations_per_million          0.41\n",
            "dtype: float64\n"
          ]
        }
      ]
    },
    {
      "cell_type": "markdown",
      "metadata": {
        "id": "nYUJ73SenLLI"
      },
      "source": [
        "**Menghapus kolom yang tidak terpakai, yaitu kolom yang memiliki tipe data string/tulisan**"
      ]
    },
    {
      "cell_type": "code",
      "metadata": {
        "id": "VkBk7JftnIpG"
      },
      "source": [
        "df_indo=df_indo.drop(['country', 'iso_code','source_name','source_website'], axis=1)"
      ],
      "execution_count": 15,
      "outputs": []
    },
    {
      "cell_type": "markdown",
      "metadata": {
        "id": "M3ONJ2nLnYG9"
      },
      "source": [
        "**Mengubah tanggal menjadi index karena data berupa timeseries, dan mengubah type data pada kolom date menjadi datetime format**"
      ]
    },
    {
      "cell_type": "code",
      "metadata": {
        "id": "Tg6orOKunXMI"
      },
      "source": [
        "df_indo_id=df_indo.set_index(['date'])\n",
        "df_indo_id.index = pd.to_datetime(df_indo_id.index)"
      ],
      "execution_count": 17,
      "outputs": []
    },
    {
      "cell_type": "markdown",
      "metadata": {
        "id": "cQ6OQta9nuqM"
      },
      "source": [
        "**Plot grafik garis untuk melihat keseluruhan data, terlihat masih ada data yang hilang pada grafik tersebut sehingga harus diatasi**"
      ]
    },
    {
      "cell_type": "code",
      "metadata": {
        "colab": {
          "base_uri": "https://localhost:8080/",
          "height": 374
        },
        "id": "xV7msRpEnrLq",
        "outputId": "0cf8c035-ce61-4276-97b4-4a21abf71bcf"
      },
      "source": [
        "#plot untuk melihat keseluruhan data\n",
        "df_indo_id.plot(figsize=(10,5),kind='line', linewidth=2)"
      ],
      "execution_count": 18,
      "outputs": [
        {
          "output_type": "execute_result",
          "data": {
            "text/plain": [
              "<matplotlib.axes._subplots.AxesSubplot at 0x7f20dea116d0>"
            ]
          },
          "metadata": {},
          "execution_count": 18
        },
        {
          "output_type": "display_data",
          "data": {
            "image/png": "[encoded data removed]",
            "text/plain": [
              "<Figure size 720x360 with 1 Axes>"
            ]
          },
          "metadata": {
            "needs_background": "light"
          }
        }
      ]
    },
    {
      "cell_type": "markdown",
      "metadata": {
        "id": "cf3fdNBKoMjz"
      },
      "source": [
        "**Melihat grafik total vaksin di Indonesia, terlihat data yang hilang dan harus diatasi. Bisa dengan dihilangkan maupun dengan diberikan nilai baru. Karena data ini merupakan time series, maka dihilangkan bukan solusi yang tepat, jadi harus digunakan nilai yang baru untuk menutup nilai yang hilang.**\n"
      ]
    },
    {
      "cell_type": "code",
      "metadata": {
        "colab": {
          "base_uri": "https://localhost:8080/",
          "height": 374
        },
        "id": "F0aDcYNon_QQ",
        "outputId": "7e0b71c6-037a-45a3-f733-aa0d89812218"
      },
      "source": [
        "df_indo_id['total_vaccinations'].plot(figsize=(10,5),kind='line', linewidth=2)"
      ],
      "execution_count": 19,
      "outputs": [
        {
          "output_type": "execute_result",
          "data": {
            "text/plain": [
              "<matplotlib.axes._subplots.AxesSubplot at 0x7f20de5512d0>"
            ]
          },
          "metadata": {},
          "execution_count": 19
        },
        {
          "output_type": "display_data",
          "data": {
            "image/png": "[encoded data removed]",
            "text/plain": [
              "<Figure size 720x360 with 1 Axes>"
            ]
          },
          "metadata": {
            "needs_background": "light"
          }
        }
      ]
    },
    {
      "cell_type": "markdown",
      "metadata": {
        "id": "wSfBlqi_pWUP"
      },
      "source": [
        "**Menggunakan metode polinomial berorde 2 karena grafik cenderung mengikuti pola tersebut.**"
      ]
    },
    {
      "cell_type": "code",
      "metadata": {
        "colab": {
          "base_uri": "https://localhost:8080/"
        },
        "id": "lM-SzY6Zo0xD",
        "outputId": "840c9d41-2afd-45c2-8bc3-30ef54de27f2"
      },
      "source": [
        "df_inter=df_indo_id.interpolate(method=\"polynomial\", order=2) # metode polynomial orde ke-2 (x^2)\n",
        "df_inter.shape #Melihat jumlah data kembali"
      ],
      "execution_count": 22,
      "outputs": [
        {
          "output_type": "execute_result",
          "data": {
            "text/plain": [
              "(243, 10)"
            ]
          },
          "metadata": {},
          "execution_count": 22
        }
      ]
    },
    {
      "cell_type": "markdown",
      "metadata": {
        "id": "BablRZwMp1Qt"
      },
      "source": [
        "**Melihat grafik dari total vaksin di Indonesia setelah digunakan metode polinomial**"
      ]
    },
    {
      "cell_type": "code",
      "metadata": {
        "colab": {
          "base_uri": "https://localhost:8080/",
          "height": 374
        },
        "id": "qrC4NjXro_nK",
        "outputId": "23dc33c0-b866-42c4-86c8-d135c9c8db9b"
      },
      "source": [
        "df_inter['total_vaccinations'].plot(figsize=(10,5),kind='line', linewidth=2)"
      ],
      "execution_count": 23,
      "outputs": [
        {
          "output_type": "execute_result",
          "data": {
            "text/plain": [
              "<matplotlib.axes._subplots.AxesSubplot at 0x7f20dd931950>"
            ]
          },
          "metadata": {},
          "execution_count": 23
        },
        {
          "output_type": "display_data",
          "data": {
            "image/png": "[encoded data removed]",
            "text/plain": [
              "<Figure size 720x360 with 1 Axes>"
            ]
          },
          "metadata": {
            "needs_background": "light"
          }
        }
      ]
    },
    {
      "cell_type": "markdown",
      "metadata": {
        "id": "JMk_XWJlp9tV"
      },
      "source": [
        "**Grafik time series total vaksin setelah diberikan metode interpolasi (dengan grafik merah)**"
      ]
    },
    {
      "cell_type": "code",
      "metadata": {
        "colab": {
          "base_uri": "https://localhost:8080/",
          "height": 537
        },
        "id": "fnzUvrInpwcy",
        "outputId": "8fc23cb0-c3ab-4691-b90c-11e953b48cd5"
      },
      "source": [
        "ax = df_inter['total_vaccinations'].plot(figsize=(15,8),kind='line', linewidth=5,color=\"red\")\n",
        "df_indo_id['total_vaccinations'].plot(ax=ax,color='blue',linewidth=7)"
      ],
      "execution_count": 24,
      "outputs": [
        {
          "output_type": "execute_result",
          "data": {
            "text/plain": [
              "<matplotlib.axes._subplots.AxesSubplot at 0x7f20db888850>"
            ]
          },
          "metadata": {},
          "execution_count": 24
        },
        {
          "output_type": "display_data",
          "data": {
            "image/png": "[encoded data removed]",
            "text/plain": [
              "<Figure size 1080x576 with 1 Axes>"
            ]
          },
          "metadata": {
            "needs_background": "light"
          }
        }
      ]
    },
    {
      "cell_type": "markdown",
      "metadata": {
        "id": "QrHrprzwq5P9"
      },
      "source": [
        "**Deskripsi data sebelum diinput nilai yang hilang**"
      ]
    },
    {
      "cell_type": "code",
      "metadata": {
        "colab": {
          "base_uri": "https://localhost:8080/",
          "height": 317
        },
        "id": "7r89RNeXqS7B",
        "outputId": "742770c0-ed83-4a4e-a7c7-69792a5a2319"
      },
      "source": [
        "df_indo.describe()"
      ],
      "execution_count": 26,
      "outputs": [
        {
          "output_type": "execute_result",
          "data": {
            "text/html": [
              "<div>\n",
              "<style scoped>\n",
              "    .dataframe tbody tr th:only-of-type {\n",
              "        vertical-align: middle;\n",
              "    }\n",
              "\n",
              "    .dataframe tbody tr th {\n",
              "        vertical-align: top;\n",
              "    }\n",
              "\n",
              "    .dataframe thead th {\n",
              "        text-align: right;\n",
              "    }\n",
              "</style>\n",
              "<table border=\"1\" class=\"dataframe\">\n",
              "  <thead>\n",
              "    <tr style=\"text-align: right;\">\n",
              "      <th></th>\n",
              "      <th>total_vaccinations</th>\n",
              "      <th>people_vaccinated</th>\n",
              "      <th>people_fully_vaccinated</th>\n",
              "      <th>daily_vaccinations_raw</th>\n",
              "      <th>daily_vaccinations</th>\n",
              "      <th>total_vaccinations_per_hundred</th>\n",
              "      <th>people_vaccinated_per_hundred</th>\n",
              "      <th>people_fully_vaccinated_per_hundred</th>\n",
              "      <th>daily_vaccinations_per_million</th>\n",
              "    </tr>\n",
              "  </thead>\n",
              "  <tbody>\n",
              "    <tr>\n",
              "      <th>count</th>\n",
              "      <td>1.980000e+02</td>\n",
              "      <td>1.980000e+02</td>\n",
              "      <td>1.920000e+02</td>\n",
              "      <td>1.670000e+02</td>\n",
              "      <td>2.420000e+02</td>\n",
              "      <td>198.000000</td>\n",
              "      <td>198.000000</td>\n",
              "      <td>192.000000</td>\n",
              "      <td>242.000000</td>\n",
              "    </tr>\n",
              "    <tr>\n",
              "      <th>mean</th>\n",
              "      <td>3.689440e+07</td>\n",
              "      <td>2.443124e+07</td>\n",
              "      <td>1.285263e+07</td>\n",
              "      <td>5.923015e+05</td>\n",
              "      <td>4.514537e+05</td>\n",
              "      <td>13.350303</td>\n",
              "      <td>8.840051</td>\n",
              "      <td>4.650833</td>\n",
              "      <td>1633.566116</td>\n",
              "    </tr>\n",
              "    <tr>\n",
              "      <th>std</th>\n",
              "      <td>3.257431e+07</td>\n",
              "      <td>2.144125e+07</td>\n",
              "      <td>1.124092e+07</td>\n",
              "      <td>5.131055e+05</td>\n",
              "      <td>3.684994e+05</td>\n",
              "      <td>11.786612</td>\n",
              "      <td>7.758593</td>\n",
              "      <td>4.067422</td>\n",
              "      <td>1333.380606</td>\n",
              "    </tr>\n",
              "    <tr>\n",
              "      <th>min</th>\n",
              "      <td>0.000000e+00</td>\n",
              "      <td>0.000000e+00</td>\n",
              "      <td>5.468000e+03</td>\n",
              "      <td>5.162000e+03</td>\n",
              "      <td>1.182300e+04</td>\n",
              "      <td>0.000000</td>\n",
              "      <td>0.000000</td>\n",
              "      <td>0.000000</td>\n",
              "      <td>43.000000</td>\n",
              "    </tr>\n",
              "    <tr>\n",
              "      <th>25%</th>\n",
              "      <td>7.966569e+06</td>\n",
              "      <td>5.608512e+06</td>\n",
              "      <td>3.234723e+06</td>\n",
              "      <td>1.801380e+05</td>\n",
              "      <td>1.933342e+05</td>\n",
              "      <td>2.882500</td>\n",
              "      <td>2.025000</td>\n",
              "      <td>1.170000</td>\n",
              "      <td>699.750000</td>\n",
              "    </tr>\n",
              "    <tr>\n",
              "      <th>50%</th>\n",
              "      <td>2.782350e+07</td>\n",
              "      <td>1.690456e+07</td>\n",
              "      <td>1.112411e+07</td>\n",
              "      <td>4.696610e+05</td>\n",
              "      <td>2.989720e+05</td>\n",
              "      <td>10.065000</td>\n",
              "      <td>6.120000</td>\n",
              "      <td>4.025000</td>\n",
              "      <td>1082.000000</td>\n",
              "    </tr>\n",
              "    <tr>\n",
              "      <th>75%</th>\n",
              "      <td>6.016776e+07</td>\n",
              "      <td>4.325647e+07</td>\n",
              "      <td>1.730928e+07</td>\n",
              "      <td>8.883180e+05</td>\n",
              "      <td>7.712958e+05</td>\n",
              "      <td>21.775000</td>\n",
              "      <td>15.652500</td>\n",
              "      <td>6.260000</td>\n",
              "      <td>2790.750000</td>\n",
              "    </tr>\n",
              "    <tr>\n",
              "      <th>max</th>\n",
              "      <td>1.137831e+08</td>\n",
              "      <td>7.224872e+07</td>\n",
              "      <td>4.153434e+07</td>\n",
              "      <td>3.087420e+06</td>\n",
              "      <td>1.371546e+06</td>\n",
              "      <td>41.170000</td>\n",
              "      <td>26.140000</td>\n",
              "      <td>15.030000</td>\n",
              "      <td>4963.000000</td>\n",
              "    </tr>\n",
              "  </tbody>\n",
              "</table>\n",
              "</div>"
            ],
            "text/plain": [
              "       total_vaccinations  ...  daily_vaccinations_per_million\n",
              "count        1.980000e+02  ...                      242.000000\n",
              "mean         3.689440e+07  ...                     1633.566116\n",
              "std          3.257431e+07  ...                     1333.380606\n",
              "min          0.000000e+00  ...                       43.000000\n",
              "25%          7.966569e+06  ...                      699.750000\n",
              "50%          2.782350e+07  ...                     1082.000000\n",
              "75%          6.016776e+07  ...                     2790.750000\n",
              "max          1.137831e+08  ...                     4963.000000\n",
              "\n",
              "[8 rows x 9 columns]"
            ]
          },
          "metadata": {},
          "execution_count": 26
        }
      ]
    },
    {
      "cell_type": "markdown",
      "metadata": {
        "id": "yiuqMuI5rBNk"
      },
      "source": [
        "**Deskripsi data setelah diinput nilai yang hilang**"
      ]
    },
    {
      "cell_type": "code",
      "metadata": {
        "colab": {
          "base_uri": "https://localhost:8080/",
          "height": 317
        },
        "id": "mdONpU2PqZMM",
        "outputId": "b156ec65-d6c7-44b1-9507-454302ebd675"
      },
      "source": [
        "df_inter.describe()"
      ],
      "execution_count": 29,
      "outputs": [
        {
          "output_type": "execute_result",
          "data": {
            "text/html": [
              "<div>\n",
              "<style scoped>\n",
              "    .dataframe tbody tr th:only-of-type {\n",
              "        vertical-align: middle;\n",
              "    }\n",
              "\n",
              "    .dataframe tbody tr th {\n",
              "        vertical-align: top;\n",
              "    }\n",
              "\n",
              "    .dataframe thead th {\n",
              "        text-align: right;\n",
              "    }\n",
              "</style>\n",
              "<table border=\"1\" class=\"dataframe\">\n",
              "  <thead>\n",
              "    <tr style=\"text-align: right;\">\n",
              "      <th></th>\n",
              "      <th>total_vaccinations</th>\n",
              "      <th>people_vaccinated</th>\n",
              "      <th>people_fully_vaccinated</th>\n",
              "      <th>daily_vaccinations_raw</th>\n",
              "      <th>daily_vaccinations</th>\n",
              "      <th>total_vaccinations_per_hundred</th>\n",
              "      <th>people_vaccinated_per_hundred</th>\n",
              "      <th>people_fully_vaccinated_per_hundred</th>\n",
              "      <th>daily_vaccinations_per_million</th>\n",
              "    </tr>\n",
              "  </thead>\n",
              "  <tbody>\n",
              "    <tr>\n",
              "      <th>count</th>\n",
              "      <td>2.430000e+02</td>\n",
              "      <td>2.430000e+02</td>\n",
              "      <td>2.270000e+02</td>\n",
              "      <td>2.300000e+02</td>\n",
              "      <td>2.420000e+02</td>\n",
              "      <td>243.000000</td>\n",
              "      <td>243.000000</td>\n",
              "      <td>227.000000</td>\n",
              "      <td>242.000000</td>\n",
              "    </tr>\n",
              "    <tr>\n",
              "      <th>mean</th>\n",
              "      <td>3.272396e+07</td>\n",
              "      <td>2.160368e+07</td>\n",
              "      <td>1.190409e+07</td>\n",
              "      <td>5.111215e+05</td>\n",
              "      <td>4.514537e+05</td>\n",
              "      <td>11.841756</td>\n",
              "      <td>7.817395</td>\n",
              "      <td>4.307871</td>\n",
              "      <td>1633.566116</td>\n",
              "    </tr>\n",
              "    <tr>\n",
              "      <th>std</th>\n",
              "      <td>3.154357e+07</td>\n",
              "      <td>2.079332e+07</td>\n",
              "      <td>1.084153e+07</td>\n",
              "      <td>5.209938e+05</td>\n",
              "      <td>3.684994e+05</td>\n",
              "      <td>11.413285</td>\n",
              "      <td>7.523785</td>\n",
              "      <td>3.922870</td>\n",
              "      <td>1333.380606</td>\n",
              "    </tr>\n",
              "    <tr>\n",
              "      <th>min</th>\n",
              "      <td>0.000000e+00</td>\n",
              "      <td>0.000000e+00</td>\n",
              "      <td>5.468000e+03</td>\n",
              "      <td>-7.175934e+05</td>\n",
              "      <td>1.182300e+04</td>\n",
              "      <td>0.000000</td>\n",
              "      <td>0.000000</td>\n",
              "      <td>0.000000</td>\n",
              "      <td>43.000000</td>\n",
              "    </tr>\n",
              "    <tr>\n",
              "      <th>25%</th>\n",
              "      <td>5.460389e+06</td>\n",
              "      <td>4.002860e+06</td>\n",
              "      <td>3.127026e+06</td>\n",
              "      <td>1.189517e+05</td>\n",
              "      <td>1.933342e+05</td>\n",
              "      <td>1.975000</td>\n",
              "      <td>1.445000</td>\n",
              "      <td>1.130000</td>\n",
              "      <td>699.750000</td>\n",
              "    </tr>\n",
              "    <tr>\n",
              "      <th>50%</th>\n",
              "      <td>2.261921e+07</td>\n",
              "      <td>1.369726e+07</td>\n",
              "      <td>9.746522e+06</td>\n",
              "      <td>3.981300e+05</td>\n",
              "      <td>2.989720e+05</td>\n",
              "      <td>8.180000</td>\n",
              "      <td>4.960000</td>\n",
              "      <td>3.530000</td>\n",
              "      <td>1082.000000</td>\n",
              "    </tr>\n",
              "    <tr>\n",
              "      <th>75%</th>\n",
              "      <td>5.141911e+07</td>\n",
              "      <td>3.638160e+07</td>\n",
              "      <td>1.615843e+07</td>\n",
              "      <td>7.804428e+05</td>\n",
              "      <td>7.712958e+05</td>\n",
              "      <td>18.605000</td>\n",
              "      <td>13.165000</td>\n",
              "      <td>5.850000</td>\n",
              "      <td>2790.750000</td>\n",
              "    </tr>\n",
              "    <tr>\n",
              "      <th>max</th>\n",
              "      <td>1.137831e+08</td>\n",
              "      <td>7.224872e+07</td>\n",
              "      <td>4.153434e+07</td>\n",
              "      <td>3.087420e+06</td>\n",
              "      <td>1.371546e+06</td>\n",
              "      <td>41.170000</td>\n",
              "      <td>26.140000</td>\n",
              "      <td>15.030000</td>\n",
              "      <td>4963.000000</td>\n",
              "    </tr>\n",
              "  </tbody>\n",
              "</table>\n",
              "</div>"
            ],
            "text/plain": [
              "       total_vaccinations  ...  daily_vaccinations_per_million\n",
              "count        2.430000e+02  ...                      242.000000\n",
              "mean         3.272396e+07  ...                     1633.566116\n",
              "std          3.154357e+07  ...                     1333.380606\n",
              "min          0.000000e+00  ...                       43.000000\n",
              "25%          5.460389e+06  ...                      699.750000\n",
              "50%          2.261921e+07  ...                     1082.000000\n",
              "75%          5.141911e+07  ...                     2790.750000\n",
              "max          1.137831e+08  ...                     4963.000000\n",
              "\n",
              "[8 rows x 9 columns]"
            ]
          },
          "metadata": {},
          "execution_count": 29
        }
      ]
    },
    {
      "cell_type": "markdown",
      "metadata": {
        "id": "2EbkiTHFoULB"
      },
      "source": [
        "**Dari keseluruhan pengolahan tersebut dapat disimpulkan bahwa data tersebut berupa data time series. Pada data time series, menangani data yang hilang akan lebih baik dengan mengganti data yang hilang tersebut agar indeks waktu tidak berubah. Karena grafik data menyerupai grafik polinomial orde 2, maka interpolasi orde 2 untuk mengganti data yang hilang adalah cara terbaik.**"
      ]
    },
    {
      "cell_type": "markdown",
      "metadata": {
        "id": "vHbsxVKStHkm"
      },
      "source": [
        "**Melihat outlier dengan membuat boxplot**"
      ]
    },
    {
      "cell_type": "code",
      "metadata": {
        "colab": {
          "base_uri": "https://localhost:8080/",
          "height": 332
        },
        "id": "FoOSughVxU7t",
        "outputId": "d1997c6c-860d-442a-c4aa-c198fb7bad42"
      },
      "source": [
        "df_indo_id.plot(kind='box',subplots=True,layout=(1,9),sharex=False, figsize=(15,5))\n",
        "plt.show()"
      ],
      "execution_count": 64,
      "outputs": [
        {
          "output_type": "display_data",
          "data": {
            "image/png": "[encoded data removed]",
            "text/plain": [
              "<Figure size 1080x360 with 9 Axes>"
            ]
          },
          "metadata": {
            "needs_background": "light"
          }
        }
      ]
    },
    {
      "cell_type": "markdown",
      "metadata": {
        "id": "vxP38lHftQPP"
      },
      "source": [
        "**Dari boxplot tersebut, kita akan mengambil variabel daily_vaccionations_raw sebagai objek yang memilik outlier**"
      ]
    },
    {
      "cell_type": "code",
      "metadata": {
        "colab": {
          "base_uri": "https://localhost:8080/"
        },
        "id": "X9uxC4PLwUmw",
        "outputId": "05cb7e9f-e215-4bb4-ddb5-28c5dc8ab08e"
      },
      "source": [
        "# menghapus nilai yang hilang dari variabel\n",
        "df_selected = df_indo_id[['daily_vaccinations_raw']]\n",
        "df_selected=df_selected.dropna()\n",
        "df_selected.info()"
      ],
      "execution_count": 73,
      "outputs": [
        {
          "output_type": "stream",
          "name": "stdout",
          "text": [
            "<class 'pandas.core.frame.DataFrame'>\n",
            "DatetimeIndex: 167 entries, 2021-01-25 to 2021-09-11\n",
            "Data columns (total 1 columns):\n",
            " #   Column                  Non-Null Count  Dtype  \n",
            "---  ------                  --------------  -----  \n",
            " 0   daily_vaccinations_raw  167 non-null    float64\n",
            "dtypes: float64(1)\n",
            "memory usage: 2.6 KB\n"
          ]
        }
      ]
    },
    {
      "cell_type": "code",
      "metadata": {
        "colab": {
          "base_uri": "https://localhost:8080/",
          "height": 332
        },
        "id": "U5IZr-ktyOke",
        "outputId": "b01692ad-f2b4-45fe-c816-61ec3949e73b"
      },
      "source": [
        "#melihat boxplot dari daily_vaccionations_raw setelah nilai yang hilang dikeluarkan\n",
        "df_selected.plot(kind='box',subplots=True,layout=(1,3),sharex=False, figsize=(15,5))\n",
        "plt.show()"
      ],
      "execution_count": 69,
      "outputs": [
        {
          "output_type": "display_data",
          "data": {
            "image/png": "[encoded data removed]",
            "text/plain": [
              "<Figure size 1080x360 with 3 Axes>"
            ]
          },
          "metadata": {
            "needs_background": "light"
          }
        }
      ]
    },
    {
      "cell_type": "markdown",
      "metadata": {
        "id": "JHFOVCqizSPW"
      },
      "source": [
        "**Menggunakan metode Z-Score untuk mengeluarkan outlier**"
      ]
    },
    {
      "cell_type": "code",
      "metadata": {
        "id": "b9HcCGlByZTT"
      },
      "source": [
        "df_out=df_selected[(np.abs(stats.zscore(df_selected)) < 3).all(axis=1)]"
      ],
      "execution_count": 71,
      "outputs": []
    },
    {
      "cell_type": "markdown",
      "metadata": {
        "id": "Dxp4X4U-zWH_"
      },
      "source": [
        "**Boxplot hasil evaluasi outlier dengan metode Z-Score.**"
      ]
    },
    {
      "cell_type": "code",
      "metadata": {
        "colab": {
          "base_uri": "https://localhost:8080/",
          "height": 332
        },
        "id": "hOpy1qQ1yf-3",
        "outputId": "f3a24abb-41af-499d-cdcd-51158f3978e3"
      },
      "source": [
        "df_out.plot(kind='box',subplots=True,layout=(1,3),sharex=False, figsize=(15,5))\n",
        "plt.show()"
      ],
      "execution_count": 72,
      "outputs": [
        {
          "output_type": "display_data",
          "data": {
            "image/png": "[encoded data removed]",
            "text/plain": [
              "<Figure size 1080x360 with 3 Axes>"
            ]
          },
          "metadata": {
            "needs_background": "light"
          }
        }
      ]
    },
    {
      "cell_type": "markdown",
      "metadata": {
        "id": "jOUAMcUQzePn"
      },
      "source": [
        "**Kesimpulan : Data Vaksin di Indonesia dapat diganti nilai yang hilangnya dengan interpolasi nominal derajat 2, dan outlier yang ada juga dapat di eliminasi dengan menghitung Z-Score**"
      ]
    }
  ]
}